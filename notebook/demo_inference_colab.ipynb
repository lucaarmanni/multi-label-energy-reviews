{
 "cells": [
  {
   "cell_type": "markdown",
   "metadata": {},
   "source": [
    "# 🚀 Demo: Inferenza del Classificatore Multi-Label per Recensioni Energetiche\n",
    "\n",
    "Questo notebook mostra come usare il modello **armaxj/energy-reviews-mlc** per classificare recensioni di testo.\n",
    "\n",
    "**Obiettivo:** Eseguire l'inferenza su due file di esempio presenti nel repository GitHub e visualizzare i risultati.\n",
    "\n",
    "**Come funziona:**\n",
    "1.  L'ambiente viene configurato automaticamente.\n",
    "2.  Lo script di inferenza scarica il modello da Hugging Face Hub.\n",
    "3.  Le previsioni vengono generate e salvate in nuovi file Excel.\n",
    "\n",
    "---"
   ]
  },
  {
   "cell_type": "markdown",
   "metadata": {},
   "source": [
    "### Passaggio 1: Setup dell'Ambiente\n",
    "\n",
    "In questa cella, cloniamo il repository GitHub e installiamo tutte le librerie necessarie definite nel file `requirements.txt`."
   ]
  },
  {
   "cell_type": "code",
   "execution_count": null,
   "metadata": {},
   "outputs": [],
   "source": [
    "!git clone https://github.com/lucaarmanni/multi-label-energy-reviews.git\n",
    "%cd multi-label-energy-reviews/src\n",
    "!pip install -q -r ../requirements.txt"
   ]
  },
  {
   "cell_type": "markdown",
   "metadata": {},
   "source": [
    "### Passaggio 2: Esecuzione dell'Inferenza\n",
    "\n",
    "Ora eseguiamo lo script `inference.py`. Questo script si occuperà di:\n",
    "- Scaricare il modello **armaxj/energy-reviews-mlc** e il tokenizer associato da Hugging Face Hub.\n",
    "- Caricare i file di esempio (`sample_input.xlsx` e `Recensioni_OCTOPUS.xlsx`).\n",
    "- Generare le previsioni e salvare i risultati in nuovi file nella cartella `data`."
   ]
  },
  {
   "cell_type": "code",
   "execution_count": null,
   "metadata": {},
   "outputs": [],
   "source": [
    "!python inference.py"
   ]
  },
  {
   "cell_type": "markdown",
   "metadata": {},
   "source": [
    "### Passaggio 3: Visualizzazione dei Risultati\n",
    "\n",
    "Inferenza completata! I risultati sono stati salvati. Ora carichiamo i file Excel generati per vedere le etichette predette dal modello."
   ]
  },
  {
   "cell_type": "code",
   "execution_count": null,
   "metadata": {},
   "outputs": [],
   "source": [
    "import pandas as pd\n",
    "\n",
    "print(\"📄 Risultati su sample_input.xlsx\")\n",
    "df_sample = pd.read_excel(\"../data/predicted_sample_input.xlsx\")\n",
    "display(df_sample)\n",
    "\n",
    "print(\"\\n📄 Risultati su Recensioni_OCTOPUS.xlsx\")\n",
    "df_octopus = pd.read_excel(\"../data/predicted_octopus_reviews.xlsx\")\n",
    "display(df_octopus.head())"
   ]
  },
  {
   "cell_type": "markdown",
   "metadata": {},
   "source": [
    "--- \n",
    "\n",
    "### ✅ Conclusione\n",
    "\n",
    "Come puoi vedere, il modello è stato scaricato e utilizzato con successo per classificare le recensioni. Questo approccio, basato su Hugging Face Hub, rende il progetto facilmente accessibile e riproducibile da chiunque.\n",
    "\n",
    "**Riferimenti Utili:**\n",
    "- **Modello su Hugging Face:** [armaxj/energy-reviews-mlc](https://huggingface.co/armaxj/energy-reviews-mlc)\n",
    "- **Repository GitHub:** [lucaarmanni/multi-label-energy-reviews](https://github.com/lucaarmanni/multi-label-energy-reviews)"
   ]
  }
 ],
 "metadata": {
  "colab": {
   "provenance": []
  },
  "kernelspec": {
   "display_name": "Python 3",
   "language": "python",
   "name": "python3"
  },
  "language_info": {
   "name": "python"
  }
 },
 "nbformat": 4,
 "nbformat_minor": 5
}
