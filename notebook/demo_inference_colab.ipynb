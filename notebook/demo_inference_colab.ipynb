{
 "cells": [
  {
   "cell_type": "markdown",
   "metadata": {},
   "source": [
    "# 🚀 Demo: Multi-Label Classification of Energy Reviews\n",
    "\n",
    "Questo notebook esegue l'inferenza usando il modello caricato su Hugging Face Hub.\n",
    "Non sono richiesti passaggi manuali come montare Google Drive o caricare file."
   ]
  },
  {
   "cell_type": "markdown",
   "metadata": {},
   "source": [
    "### 1. Setup dell'Ambiente"
   ]
  },
  {
   "cell_type": "code",
   "execution_count": null,
   "metadata": {},
   "outputs": [],
   "source": [
    "!git clone https://github.com/lucaarmanni/multi-label-energy-reviews.git\n",
    "%cd multi-label-energy-reviews/src\n",
    "!pip install -q -r ../requirements.txt"
   ]
  },
  {
   "cell_type": "markdown",
   "metadata": {},
   "source": [
    "### 2. Esecuzione dell'Inferenza"
   ]
  },
  {
   "cell_type": "code",
   "execution_count": null,
   "metadata": {},
   "outputs": [],
   "source": [
    "# Questo script scarica automaticamente il modello dall'Hub ed esegue le previsioni\n",
    "!python inference.py"
   ]
  },
  {
   "cell_type": "markdown",
   "metadata": {},
   "source": [
    "### 3. Visualizzazione dei Risultati"
   ]
  },
  {
   "cell_type": "code",
   "execution_count": null,
   "metadata": {},
   "outputs": [],
   "source": [
    "import pandas as pd\n",
    "\n",
    "print(\"📄 Risultati su sample_input.xlsx\")\n",
    "display(pd.read_excel(\"../data/predicted_sample_input.xlsx\"))\n",
    "\n",
    "print(\"\\n📄 Risultati su Recensioni_OCTOPUS.xlsx\")\n",
    "display(pd.read_excel(\"../data/predicted_octopus_reviews.xlsx\"))"
   ]
  }
 ],
 "metadata": { },
 "nbformat": 4,
 "nbformat_minor": 5
}
