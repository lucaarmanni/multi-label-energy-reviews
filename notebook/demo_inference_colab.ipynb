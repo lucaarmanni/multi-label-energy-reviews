{
 "cells": [
  {
   "cell_type": "markdown",
   "metadata": {},
   "source": [
    "# 🚀 Demo: Multi-Label Classification of Energy Reviews \n",
    "\n",
    "Questo notebook mostra come eseguire l’inferenza del modello fine-tunato:\n",
    "- `sample_input.xlsx` (10 recensioni di esempio)\n",
    "- `Recensioni_OCTOPUS.xlsx` (dataset reale)\n",
    "\n",
    "---"
   ]
  },
  {
   "cell_type": "markdown",
   "metadata": {},
   "source": [
    "## 🔧 Setup ambiente"
   ]
  },
  {
   "cell_type": "code",
   "execution_count": null,
   "metadata": {},
   "outputs": [],
   "source": [
    "!git clone https://github.com/lucaarmanni/multi-label-energy-reviews.git\n",
    "%cd multi-label-energy-reviews/src\n",
    "!pip install -r ../requirements.txt"
   ]
  },
  {
   "cell_type": "markdown",
   "metadata": {},
   "source": [
    "## 💾 Monta Google Drive ed estrai il modello\n",
    "\n",
    "Assicurati di avere caricato su Drive il file `best-umBERTo-DBLoss-BT.zip` nella cartella:\n",
    "`/MyDrive/classifier_multi_label_energy_reviews/`"
   ]
  },
  {
   "cell_type": "code",
   "execution_count": null,
   "metadata": {},
   "outputs": [],
   "source": [
    "from google.colab import drive\n",
    "import zipfile, os\n",
    "\n",
    "drive.mount('/content/drive')\n",
    "\n",
    "drive_path = \"/content/drive/MyDrive/classifier_multi_label_energy_reviews/best-umBERTo-DBLoss-BT.zip\"\n",
    "destination_path = \"/content/multi-label-energy-reviews/models/\"\n",
    "\n",
    "os.makedirs(destination_path, exist_ok=True)\n",
    "\n",
    "with zipfile.ZipFile(drive_path, 'r') as zip_ref:\n",
    "    zip_ref.extractall(destination_path)\n",
    "\n",
    "print(\"✅ Modello estratto correttamente in:\", destination_path)"
   ]
  },
  {
   "cell_type": "markdown",
   "metadata": {},
   "source": [
    "## 🧩 Esegui l’inferenza su entrambi i dataset"
   ]
  },
  {
   "cell_type": "code",
   "execution_count": null,
   "metadata": {},
   "outputs": [],
   "source": [
    "%cd /content/multi-label-energy-reviews/src\n",
    "!python inference.py"
   ]
  },
  {
   "cell_type": "markdown",
   "metadata": {},
   "source": [
    "## 📊 Visualizza i risultati"
   ]
  },
  {
   "cell_type": "code",
   "execution_count": null,
   "metadata": {},
   "outputs": [],
   "source": [
    "import pandas as pd\n",
    "\n",
    "df_sample = pd.read_excel(\"../data/predicted_sample_input.xlsx\")\n",
    "print(\"📄 Risultati su sample_input.xlsx\")\n",
    "display(df_sample.head())\n",
    "\n",
    "df_octopus = pd.read_excel(\"../data/predicted_octopus_reviews.xlsx\")\n",
    "print(\"\\n📄 Risultati su 3767_Recensioni_OCTOPUS.xlsx\")\n",
    "display(df_octopus.head())"
   ]
  },
  {
   "cell_type": "markdown",
   "metadata": {},
   "source": [
    "## 🧠 Conclusione\n",
    "\n",
    "Il modello  consente di classificare automaticamente recensioni testuali in più categorie semantiche simultanee, offrendo un supporto efficiente per l’analisi automatica di feedback nel dominio energetico.\n",
    "\n",
    "---\n",
    "\n",
    "**Riferimenti:**\n",
    "- Base model: [Musixmatch/umBERTo-commoncrawl-cased-v1](https://huggingface.co/Musixmatch/umberto-commoncrawl-cased-v1)\n",
    "- Framework: [Hugging Face Transformers](https://huggingface.co/docs/transformers)\n",
    "- Repository: [lucaarmanni/multi-label-energy-reviews](https://github.com/lucaarmanni/multi-label-energy-reviews)"
   ]
  }
 ],
 "metadata": {
  "colab": {
   "provenance": []
  },
  "kernelspec": {
   "display_name": "Python 3",
   "language": "python",
   "name": "python3"
  },
  "language_info": {
   "name": "python"
  }
 },
 "nbformat": 4,
 "nbformat_minor": 5
}
